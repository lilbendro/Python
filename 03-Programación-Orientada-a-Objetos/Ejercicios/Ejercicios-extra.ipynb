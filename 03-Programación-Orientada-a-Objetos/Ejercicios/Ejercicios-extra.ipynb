{
 "cells": [
  {
   "cell_type": "markdown",
   "metadata": {},
   "source": [
    "# Ejercicio 1A #\n",
    "Escribe una función para calcular el consumo medio de combustible de un vehículo.\n",
    "\n",
    "Entrada de datos:\n",
    "\n",
    "Kilometros recorridos\n",
    "Listros de combustible consumidos\n",
    "Salida de datos:\n",
    "\n",
    "litros consumidos por kilimetro"
   ]
  },
  {
   "cell_type": "code",
   "execution_count": null,
   "metadata": {
    "vscode": {
     "languageId": "plaintext"
    }
   },
   "outputs": [],
   "source": []
  },
  {
   "cell_type": "markdown",
   "metadata": {},
   "source": [
    "# Ejercicio 2A #\n",
    "Escribir funciones para tranformar grados Celsius en Fahrenheit y viciversa.\n",
    "\n",
    "Formulas:\n",
    "Celsius = (5 ÷ 9) x (Fahrenheit - 32)\n",
    "\n",
    "Fahrenheit = (Celsius x (9 ÷ 5)) + 32\n",
    "\n",
    "Entrada de datos:\n",
    "\n",
    "Grados Celsius/Fahrenheit\n",
    "Salida de datos:\n",
    "Grados transformados"
   ]
  },
  {
   "cell_type": "code",
   "execution_count": null,
   "metadata": {
    "vscode": {
     "languageId": "plaintext"
    }
   },
   "outputs": [],
   "source": []
  }
 ],
 "metadata": {
  "language_info": {
   "name": "python"
  }
 },
 "nbformat": 4,
 "nbformat_minor": 2
}
