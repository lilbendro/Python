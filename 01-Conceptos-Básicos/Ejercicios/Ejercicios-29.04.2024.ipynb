{
 "cells": [
  {
   "cell_type": "code",
   "execution_count": null,
   "metadata": {},
   "outputs": [],
   "source": [
    "# Muestra por pantalla los números comprendidos entre 1 y 10 (WHILE)\n",
    "valor = 1\n",
    "while (valor < 11):\n",
    "    print(f\"Valor actual {valor}\")\n",
    "    valor += 1"
   ]
  },
  {
   "cell_type": "code",
   "execution_count": null,
   "metadata": {},
   "outputs": [],
   "source": [
    "# Muestra la tabla de multiplicar de n (WHILE)\n",
    "mul = 0\n",
    "n = int(input(\"Introduce un numero: \"))\n",
    "while (mul < 10):\n",
    "    mul += 1\n",
    "    print(f\"{n} x {mul} = {n*mul}\")"
   ]
  }
 ],
 "metadata": {
  "kernelspec": {
   "display_name": "Python 3",
   "language": "python",
   "name": "python3"
  },
  "language_info": {
   "codemirror_mode": {
    "name": "ipython",
    "version": 3
   },
   "file_extension": ".py",
   "mimetype": "text/x-python",
   "name": "python",
   "nbconvert_exporter": "python",
   "pygments_lexer": "ipython3",
   "version": "3.12.3"
  }
 },
 "nbformat": 4,
 "nbformat_minor": 2
}
